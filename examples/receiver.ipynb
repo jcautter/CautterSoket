{
 "cells": [
  {
   "cell_type": "code",
   "execution_count": 1,
   "id": "916ad2de",
   "metadata": {},
   "outputs": [],
   "source": [
    "from cautterSoket import CautterSoket"
   ]
  },
  {
   "cell_type": "code",
   "execution_count": 2,
   "id": "5252e56b",
   "metadata": {},
   "outputs": [],
   "source": [
    "soket = CautterSoket(\n",
    "    host = '127.0.0.1'\n",
    "    , port = 65432\n",
    ")"
   ]
  },
  {
   "cell_type": "code",
   "execution_count": 3,
   "id": "57068720",
   "metadata": {},
   "outputs": [
    {
     "name": "stdout",
     "output_type": "stream",
     "text": [
      "host name LAPTOP-AHP0V05I\n",
      "host ip 192.168.1.9\n"
     ]
    }
   ],
   "source": [
    "soket.show_host()"
   ]
  },
  {
   "cell_type": "code",
   "execution_count": 4,
   "id": "b4e65f08",
   "metadata": {},
   "outputs": [],
   "source": [
    "soket.receiver()"
   ]
  },
  {
   "cell_type": "code",
   "execution_count": 9,
   "id": "5d8f3aa1",
   "metadata": {},
   "outputs": [
    {
     "name": "stdout",
     "output_type": "stream",
     "text": [
      "Information: Connected by ('127.0.0.1', 60390)\n",
      "mensagem recebida: b'MSG_SEND_FILE_FINISHED'\n",
      "Information: Successfully get the file\n",
      "Information: connection closed\n"
     ]
    }
   ],
   "source": [
    "soket.receive_file('teste1.zip')"
   ]
  },
  {
   "cell_type": "code",
   "execution_count": null,
   "id": "4d8e2fc2",
   "metadata": {},
   "outputs": [],
   "source": []
  }
 ],
 "metadata": {
  "kernelspec": {
   "display_name": "Python 3",
   "language": "python",
   "name": "python3"
  },
  "language_info": {
   "codemirror_mode": {
    "name": "ipython",
    "version": 3
   },
   "file_extension": ".py",
   "mimetype": "text/x-python",
   "name": "python",
   "nbconvert_exporter": "python",
   "pygments_lexer": "ipython3",
   "version": "3.8.5"
  }
 },
 "nbformat": 4,
 "nbformat_minor": 5
}
