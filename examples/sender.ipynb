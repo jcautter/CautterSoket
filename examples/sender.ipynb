{
 "cells": [
  {
   "cell_type": "code",
   "execution_count": 1,
   "id": "5edfcb66",
   "metadata": {},
   "outputs": [],
   "source": [
    "from cautterSoket import CautterSoket"
   ]
  },
  {
   "cell_type": "code",
   "execution_count": 2,
   "id": "8026b658",
   "metadata": {},
   "outputs": [],
   "source": [
    "soket = CautterSoket(\n",
    "    host = '127.0.0.1'\n",
    "    , port = 65432\n",
    ")"
   ]
  },
  {
   "cell_type": "code",
   "execution_count": 3,
   "id": "6ed53164",
   "metadata": {},
   "outputs": [
    {
     "name": "stdout",
     "output_type": "stream",
     "text": [
      "host name LAPTOP-AHP0V05I\n",
      "host ip 192.168.1.9\n"
     ]
    }
   ],
   "source": [
    "soket.show_host()"
   ]
  },
  {
   "cell_type": "code",
   "execution_count": 4,
   "id": "7849f529",
   "metadata": {},
   "outputs": [],
   "source": [
    "soket.connect()"
   ]
  },
  {
   "cell_type": "code",
   "execution_count": 5,
   "id": "2c6fc63d",
   "metadata": {},
   "outputs": [
    {
     "name": "stdout",
     "output_type": "stream",
     "text": [
      "Informação: connection closed\n"
     ]
    }
   ],
   "source": [
    "soket.send_file('org.zip')"
   ]
  },
  {
   "cell_type": "code",
   "execution_count": null,
   "id": "f44df388",
   "metadata": {},
   "outputs": [],
   "source": []
  }
 ],
 "metadata": {
  "kernelspec": {
   "display_name": "Python 3",
   "language": "python",
   "name": "python3"
  },
  "language_info": {
   "codemirror_mode": {
    "name": "ipython",
    "version": 3
   },
   "file_extension": ".py",
   "mimetype": "text/x-python",
   "name": "python",
   "nbconvert_exporter": "python",
   "pygments_lexer": "ipython3",
   "version": "3.8.5"
  }
 },
 "nbformat": 4,
 "nbformat_minor": 5
}
